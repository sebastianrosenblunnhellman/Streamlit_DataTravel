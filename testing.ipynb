{
 "cells": [
  {
   "cell_type": "code",
   "execution_count": 1,
   "metadata": {},
   "outputs": [],
   "source": [
    "import streamlit as st\n",
    "import pandas as pd\n",
    "import pyarrow.parquet as pq\n",
    "import pyarrow as pa\n",
    "import ast\n",
    "from surprise.dump import load\n",
    "\n",
    "# Cargar el modelo entrenado desde el archivo guardado\n",
    "modelo_guardado = \"models/modelo_user_item.pkl\"\n",
    "loaded_model = load(modelo_guardado)[1]\n",
    "\n",
    "# Cargar los datos desde el archivo Parquet\n",
    "file_path = 'data/data_user_item.parquet'\n",
    "table = pq.read_table(file_path)\n",
    "reviews = table.to_pandas()"
   ]
  },
  {
   "cell_type": "code",
   "execution_count": 2,
   "metadata": {},
   "outputs": [
    {
     "name": "stdout",
     "output_type": "stream",
     "text": [
      "Usuarios con ítems no calificados:\n",
      "            user_id  num_items_no_calificados\n",
      "0      1.155553e+20                      2203\n",
      "1      1.168684e+20                      2205\n",
      "2      1.089802e+20                      2205\n",
      "3      1.047022e+20                      2205\n",
      "4      1.017705e+20                      2205\n",
      "...             ...                       ...\n",
      "78572  1.174809e+20                      2205\n",
      "78573  1.144085e+20                      2205\n",
      "78574  1.048164e+20                      2205\n",
      "78575  1.005802e+20                      2205\n",
      "78576  1.177883e+20                      2205\n",
      "\n",
      "[78577 rows x 2 columns]\n"
     ]
    }
   ],
   "source": [
    "def obtener_usuarios_con_items_no_calificados():\n",
    "    user_ids = reviews['user_id'].unique()\n",
    "    usuarios_con_items_no_calificados = []\n",
    "\n",
    "    for user_id in user_ids:\n",
    "        items_calificados = reviews[reviews['user_id'] == user_id]['business_id'].unique()\n",
    "        items_no_calificados = reviews[~reviews['business_id'].isin(items_calificados)]['business_id'].unique()\n",
    "\n",
    "        if len(items_no_calificados) > 0:\n",
    "            usuarios_con_items_no_calificados.append((user_id, len(items_no_calificados)))\n",
    "\n",
    "    # Crear un DataFrame con los usuarios que tienen ítems no calificados\n",
    "    df_usuarios_con_items_no_calificados = pd.DataFrame(usuarios_con_items_no_calificados, columns=['user_id', 'num_items_no_calificados'])\n",
    "    return df_usuarios_con_items_no_calificados\n",
    "\n",
    "# Ejemplo de uso\n",
    "df_usuarios_con_items_no_calificados = obtener_usuarios_con_items_no_calificados()\n",
    "print(\"Usuarios con ítems no calificados:\")\n",
    "print(df_usuarios_con_items_no_calificados)\n"
   ]
  },
  {
   "cell_type": "code",
   "execution_count": 5,
   "metadata": {},
   "outputs": [],
   "source": [
    "df_usuarios_con_items_no_calificados.to_parquet('data/df_usuarios_con_items_no_calificados.parquet', index=False)"
   ]
  }
 ],
 "metadata": {
  "kernelspec": {
   "display_name": "Python 3",
   "language": "python",
   "name": "python3"
  },
  "language_info": {
   "codemirror_mode": {
    "name": "ipython",
    "version": 3
   },
   "file_extension": ".py",
   "mimetype": "text/x-python",
   "name": "python",
   "nbconvert_exporter": "python",
   "pygments_lexer": "ipython3",
   "version": "3.9.0"
  }
 },
 "nbformat": 4,
 "nbformat_minor": 2
}
