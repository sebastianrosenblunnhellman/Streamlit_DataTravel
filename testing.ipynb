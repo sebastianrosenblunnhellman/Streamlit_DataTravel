{
 "cells": [
  {
   "cell_type": "code",
   "execution_count": 30,
   "metadata": {},
   "outputs": [],
   "source": [
    "import pandas as pd\n",
    "import numpy as np\n",
    "import pickle\n",
    "from collections import deque\n",
    "\n",
    "def restaurantes_similares(restaurant_name, n_restaurants=5):\n",
    "    # Cargar el modelo desde el archivo .pkl\n",
    "    with open('models/modelo_item_item.pkl', 'rb') as file:\n",
    "        model = pickle.load(file)\n",
    "\n",
    "    # Cargar los datos desde el archivo Parquet\n",
    "    file_path = 'data/data_item_item.parquet'\n",
    "    table = pq.read_table(file_path)\n",
    "    restaurantes = table.to_pandas()\n",
    "\n",
    "    # Crear un nuevo DataFrame con las columnas 'avg_rating' y 'num_of_reviews'\n",
    "    restaurantes = restaurantes[['name', 'avg_rating', 'num_of_reviews']]\n",
    "\n",
    "    # Obtener el índice del restaurante de entrada\n",
    "    restaurant_index = restaurantes[restaurantes['name'] == restaurant_name].index[0]\n",
    "\n",
    "    # Obtener las características del restaurante de entrada\n",
    "    X = restaurantes.drop(columns=['name'])\n",
    "    restaurant_features = X.iloc[restaurant_index].values.reshape(1, -1)\n",
    "\n",
    "    # Encontrar los índices de los restaurantes más cercanos\n",
    "    distances, indices = model.kneighbors(restaurant_features, n_neighbors=len(X))\n",
    "\n",
    "    # Eliminar el índice del propio restaurante de la lista de índices similares\n",
    "    similar_indices = np.delete(indices[0], 0)\n",
    "\n",
    "    # Crear una cola con los índices similares\n",
    "    queue = deque(similar_indices)\n",
    "\n",
    "    # Seleccionar los primeros n_restaurants índices no repetidos\n",
    "    selected_indices = []\n",
    "    while len(selected_indices) < n_restaurants:\n",
    "        index = queue.popleft()\n",
    "        if index not in selected_indices:\n",
    "            selected_indices.append(index)\n",
    "        else:\n",
    "            queue.append(index)\n",
    "\n",
    "    # Obtener los nombres de los restaurantes similares\n",
    "    similar_restaurants = restaurantes.iloc[selected_indices]['name'].tolist()\n",
    "\n",
    "    return similar_restaurants\n"
   ]
  },
  {
   "cell_type": "code",
   "execution_count": 59,
   "metadata": {},
   "outputs": [
    {
     "name": "stderr",
     "output_type": "stream",
     "text": [
      "c:\\Users\\sebas\\AppData\\Local\\Programs\\Python\\Python39\\lib\\site-packages\\sklearn\\base.py:493: UserWarning: X does not have valid feature names, but KNeighborsTransformer was fitted with feature names\n",
      "  warnings.warn(\n"
     ]
    },
    {
     "data": {
      "text/plain": [
       "['Simon Parrilla Bar and Grill Longwood',\n",
       " 'Taqueria Hernandez Taco Truck',\n",
       " 'Açaí com Tapioca',\n",
       " 'Taqueria Hernandez Taco Truck',\n",
       " 'Epicerie Art Cafe']"
      ]
     },
     "execution_count": 59,
     "metadata": {},
     "output_type": "execute_result"
    }
   ],
   "source": [
    "restaurantes_similares(\"\")"
   ]
  },
  {
   "cell_type": "code",
   "execution_count": 19,
   "metadata": {},
   "outputs": [
    {
     "name": "stdout",
     "output_type": "stream",
     "text": [
      "['Bachata Rosa', \"Zampini's Bottega\", 'Choices Cafe', 'Biscayne Backyard Barbecue', 'Crab Du Jour Cajun Seafood & Bar', 'Flock and Stock', 'Sizzler', 'Pi Pizza', \"Pizza cubana& Italiana Dileo's House LLC\", \"Dick's Restaurant and Bar\", 'Cajun Boil Express', 'The Island Coffee', 'JK Fast Food & Fruit', 'Power Meals', 'Mainstay Tavern', 'Nutri-Corner Protein Smoothies and More', 'Papa Nose Italian Eatery', 'Panaggio’s Fusion Bistro', 'Delicious Latino Restaurant', 'Store Grocery', 'Cinemark Movie Bistro-Boca Raton', 'Fitlife Foods Plantation', 'Marcelina’s', 'Canton Palace Chinese Restaurant', \"MotLee's\", 'Taco San Marcos', 'Bodega Taqueria y Tequila Aventura', 'Cypress Food Store Inc', \"Danny's Kitchen\", 'YOUNGS KITCHEN', 'Starlight Restaurant & Lounge', 'Salty Bagel and Grill', 'The Hummus Corner of Wekiva', \"Sicilia's Pizza - Italian New York Style Pizza\", 'El Palenque Pizzería Cubana', 'The Bridge Restaurant', 'Los Tacos By Chef Omar', \"Corrina's Pizza\", 'Copas Restaurant Bar & Lounge', 'Esencias Cafe', 'Downtown Music Hall', 'Trattoria Pasquale North', \"Joe's Crab Shack\", 'Burger King', 'Palmdale Cracker', 'South Pacific Grill', 'Alley Cat Seafood, Beer House & Wine Boutique', 'PAPA LLAMA', 'BurgerFi', 'Big Randy’s', 'Tienda El Castillo', 'Antojitos Mexicanos', 'La Bambina Pizza', 'Veronica’s Restaurant', 'El Burro Loco', 'Sushigami', 'Argana Diner ( Halal & Mediterranean Food )', 'Sushi Wave', \"Vincenzo's New York to Chicago Pizzeria\", 'Burger21', 'Aja Food Truck (Bird Road)', 'Las Vegas Cuban Cuisine', \"Singing Sam's Pizza\", 'Prana', 'Wok Town Miami Beach', 'Sloppy Pelican', 'His & Hers Restaurant and Bar', \"Mable's Island Kitchen\", 'El Cubano Restaurant', 'Le Bifteck Restaurant', 'Smoothie Jungle Cafe (Coral Springs)', 'Pholicious Vietnamse Rice Noodle Soup', 'Koi Chinese Restaurant', 'Villa Italian Kitchen', 'Krispy Krunchy Chicken', 'Salt & Sugar Cafe', 'Pizza Paddle', 'Atlantic Restaurant & Sport Lounge', \"Mama Sue's Pizza and Wings\", \"Eli's Cafe\", \"CLOSED Hungry Howie's\", 'Mangia House by Juan Drake', 'Angry Bull Saloon', 'Chart House - CLOSED', 'Sazón Tropical Cafe', \"El Johnny d'luxe\", 'Soulful Flavors Seffner', 'Maoz Vegetarian', 'Fritanga El Campesino', 'Buckaroo Roadhouse', 'Epic Cafe Bar and Grill', 'Crisp Eatery and Bar', 'Havana Vice', 'Fiesta Bar&Grill', 'Sunny Terrace', '3Natives', 'JBANGER SOUL Food', \"Charley's Philly Steaks\", \"Dani's Daytime Diner\", 'KUBA EN LA PLAYA']\n"
     ]
    }
   ],
   "source": [
    "# Obtener todos los valores únicos de la columna \"name\"\n",
    "names = restaurantes[\"name\"].unique()\n",
    "\n",
    "# Imprimir todos los valores únicos\n",
    "print(names.tolist()[:100])\n"
   ]
  },
  {
   "cell_type": "code",
   "execution_count": 6,
   "metadata": {},
   "outputs": [],
   "source": [
    "    # Cargar los datos desde el archivo Parquet\n",
    "    file_path = 'data/data_item_item.parquet'\n",
    "    table = pq.read_table(file_path)\n",
    "    restaurantes = table.to_pandas()"
   ]
  }
 ],
 "metadata": {
  "kernelspec": {
   "display_name": "Python 3",
   "language": "python",
   "name": "python3"
  },
  "language_info": {
   "codemirror_mode": {
    "name": "ipython",
    "version": 3
   },
   "file_extension": ".py",
   "mimetype": "text/x-python",
   "name": "python",
   "nbconvert_exporter": "python",
   "pygments_lexer": "ipython3",
   "version": "3.9.0"
  }
 },
 "nbformat": 4,
 "nbformat_minor": 2
}
